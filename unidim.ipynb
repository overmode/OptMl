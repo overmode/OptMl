{
 "cells": [
  {
   "cell_type": "markdown",
   "metadata": {},
   "source": [
    "# f = x^3 - x + 2\n"
   ]
  },
  {
   "cell_type": "code",
   "execution_count": null,
   "metadata": {
    "collapsed": true
   },
   "outputs": [],
   "source": [
    "def f(x) :\n",
    "    return x**3 - x + 2\n",
    "\n",
    "def f_prime(x) :\n",
    "    return 3*x**2 - 1\n",
    "\n",
    "\n",
    "def fod(x, last_x = None, type='classic', h=0.0005) :\n",
    "    if last_x is None :\n",
    "        if type == 'classic':\n",
    "            return f_prime(x)\n",
    "        elif type == 'backward' :\n",
    "            return (f(x) - f(x-h)) / h \n",
    "        elif type == 'forward' :\n",
    "            return (f(x + h) - f(x)) / h \n",
    "        elif type == 'central' :\n",
    "            return (f(x+h) - f(x-h)) / 2*h\n",
    "    else :\n",
    "        return (f(last_x) - f(x)) / last_x - x\n",
    "           "
   ]
  },
  {
   "cell_type": "code",
   "execution_count": null,
   "metadata": {
    "collapsed": true
   },
   "outputs": [],
   "source": [
    "def "
   ]
  },
  {
   "cell_type": "code",
   "execution_count": null,
   "metadata": {
    "collapsed": true
   },
   "outputs": [],
   "source": []
  },
  {
   "cell_type": "code",
   "execution_count": null,
   "metadata": {
    "collapsed": true
   },
   "outputs": [],
   "source": []
  },
  {
   "cell_type": "code",
   "execution_count": null,
   "metadata": {
    "collapsed": true
   },
   "outputs": [],
   "source": []
  },
  {
   "cell_type": "code",
   "execution_count": null,
   "metadata": {
    "collapsed": true
   },
   "outputs": [],
   "source": []
  }
 ],
 "metadata": {
  "kernelspec": {
   "display_name": "Python 3",
   "language": "python",
   "name": "python3"
  },
  "language_info": {
   "codemirror_mode": {
    "name": "ipython",
    "version": 3
   },
   "file_extension": ".py",
   "mimetype": "text/x-python",
   "name": "python",
   "nbconvert_exporter": "python",
   "pygments_lexer": "ipython3",
   "version": "3.6.2"
  }
 },
 "nbformat": 4,
 "nbformat_minor": 2
}
